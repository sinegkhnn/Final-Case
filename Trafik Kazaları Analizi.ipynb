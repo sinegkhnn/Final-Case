{
 "cells": [
  {
   "cell_type": "code",
   "execution_count": 1,
   "id": "597b1cf3",
   "metadata": {},
   "outputs": [],
   "source": [
    "import pandas as pd\n",
    "import numpy as np\n",
    "import matplotlib.pyplot as plt"
   ]
  },
  {
   "cell_type": "code",
   "execution_count": 2,
   "id": "3f4dc2f6",
   "metadata": {},
   "outputs": [],
   "source": [
    "df1 = pd.read_csv(\"./accidents_2005_to_2007.csv\",low_memory=False)\n",
    "df2 = pd.read_csv(\"./accidents_2009_to_2011.csv\",low_memory=False) \n",
    "df3 = pd.read_csv(\"./accidents_2012_to_2014.csv\",low_memory=False)"
   ]
  },
  {
   "cell_type": "code",
   "execution_count": 34,
   "id": "a54f2bf2",
   "metadata": {},
   "outputs": [],
   "source": [
    "data_frame= pd.concat([df1,df2,df3]) #Veriler farklı yıllara göre ayrıldığı için öncelikle onları bir araya getirmemiz gerekiyor."
   ]
  },
  {
   "cell_type": "code",
   "execution_count": 4,
   "id": "4f8cc830",
   "metadata": {},
   "outputs": [
    {
     "data": {
      "text/plain": [
       "(1504150, 33)"
      ]
     },
     "execution_count": 4,
     "metadata": {},
     "output_type": "execute_result"
    }
   ],
   "source": [
    "data_frame.shape"
   ]
  },
  {
   "cell_type": "code",
   "execution_count": 5,
   "id": "9607bc71",
   "metadata": {
    "scrolled": true
   },
   "outputs": [
    {
     "name": "stdout",
     "output_type": "stream",
     "text": [
      "<class 'pandas.core.frame.DataFrame'>\n",
      "Int64Index: 1504150 entries, 0 to 464696\n",
      "Data columns (total 33 columns):\n",
      " #   Column                                       Non-Null Count    Dtype  \n",
      "---  ------                                       --------------    -----  \n",
      " 0   Accident_Index                               1504150 non-null  object \n",
      " 1   Location_Easting_OSGR                        1504049 non-null  float64\n",
      " 2   Location_Northing_OSGR                       1504049 non-null  float64\n",
      " 3   Longitude                                    1504049 non-null  float64\n",
      " 4   Latitude                                     1504049 non-null  float64\n",
      " 5   Police_Force                                 1504150 non-null  int64  \n",
      " 6   Accident_Severity                            1504150 non-null  int64  \n",
      " 7   Number_of_Vehicles                           1504150 non-null  int64  \n",
      " 8   Number_of_Casualties                         1504150 non-null  int64  \n",
      " 9   Date                                         1504150 non-null  object \n",
      " 10  Day_of_Week                                  1504150 non-null  int64  \n",
      " 11  Time                                         1504033 non-null  object \n",
      " 12  Local_Authority_(District)                   1504150 non-null  int64  \n",
      " 13  Local_Authority_(Highway)                    1504150 non-null  object \n",
      " 14  1st_Road_Class                               1504150 non-null  int64  \n",
      " 15  1st_Road_Number                              1504150 non-null  int64  \n",
      " 16  Road_Type                                    1504150 non-null  object \n",
      " 17  Speed_limit                                  1504150 non-null  int64  \n",
      " 18  Junction_Detail                              0 non-null        float64\n",
      " 19  Junction_Control                             901315 non-null   object \n",
      " 20  2nd_Road_Class                               1504150 non-null  int64  \n",
      " 21  2nd_Road_Number                              1504150 non-null  int64  \n",
      " 22  Pedestrian_Crossing-Human_Control            1504133 non-null  object \n",
      " 23  Pedestrian_Crossing-Physical_Facilities      1504116 non-null  object \n",
      " 24  Light_Conditions                             1504150 non-null  object \n",
      " 25  Weather_Conditions                           1504024 non-null  object \n",
      " 26  Road_Surface_Conditions                      1502192 non-null  object \n",
      " 27  Special_Conditions_at_Site                   1504135 non-null  object \n",
      " 28  Carriageway_Hazards                          1504121 non-null  object \n",
      " 29  Urban_or_Rural_Area                          1504150 non-null  int64  \n",
      " 30  Did_Police_Officer_Attend_Scene_of_Accident  1501228 non-null  object \n",
      " 31  LSOA_of_Accident_Location                    1395912 non-null  object \n",
      " 32  Year                                         1504150 non-null  int64  \n",
      "dtypes: float64(5), int64(13), object(15)\n",
      "memory usage: 390.2+ MB\n"
     ]
    }
   ],
   "source": [
    "data_frame.info()\n"
   ]
  },
  {
   "cell_type": "code",
   "execution_count": 6,
   "id": "0cb3a9bb",
   "metadata": {},
   "outputs": [],
   "source": [
    "data = data_frame.drop(['Accident_Index', 'Location_Easting_OSGR', 'Location_Northing_OSGR','Longitude',\n",
    "       'Latitude', 'Police_Force','Date','Local_Authority_(District)','Local_Authority_(Highway)',\n",
    "       '1st_Road_Class', '1st_Road_Number', 'Speed_limit','Junction_Detail', 'Junction_Control', '2nd_Road_Class',\n",
    "       '2nd_Road_Number', 'Pedestrian_Crossing-Human_Control', 'Pedestrian_Crossing-Physical_Facilities', \n",
    "       'Special_Conditions_at_Site', 'Carriageway_Hazards','Did_Police_Officer_Attend_Scene_of_Accident',\n",
    "       'LSOA_of_Accident_Location'], axis=1)"
   ]
  },
  {
   "cell_type": "code",
   "execution_count": 7,
   "id": "3cce104d",
   "metadata": {},
   "outputs": [
    {
     "name": "stdout",
     "output_type": "stream",
     "text": [
      "<class 'pandas.core.frame.DataFrame'>\n",
      "Int64Index: 1504150 entries, 0 to 464696\n",
      "Data columns (total 11 columns):\n",
      " #   Column                   Non-Null Count    Dtype \n",
      "---  ------                   --------------    ----- \n",
      " 0   Accident_Severity        1504150 non-null  int64 \n",
      " 1   Number_of_Vehicles       1504150 non-null  int64 \n",
      " 2   Number_of_Casualties     1504150 non-null  int64 \n",
      " 3   Day_of_Week              1504150 non-null  int64 \n",
      " 4   Time                     1504033 non-null  object\n",
      " 5   Road_Type                1504150 non-null  object\n",
      " 6   Light_Conditions         1504150 non-null  object\n",
      " 7   Weather_Conditions       1504024 non-null  object\n",
      " 8   Road_Surface_Conditions  1502192 non-null  object\n",
      " 9   Urban_or_Rural_Area      1504150 non-null  int64 \n",
      " 10  Year                     1504150 non-null  int64 \n",
      "dtypes: int64(6), object(5)\n",
      "memory usage: 137.7+ MB\n"
     ]
    },
    {
     "data": {
      "text/html": [
       "<div>\n",
       "<style scoped>\n",
       "    .dataframe tbody tr th:only-of-type {\n",
       "        vertical-align: middle;\n",
       "    }\n",
       "\n",
       "    .dataframe tbody tr th {\n",
       "        vertical-align: top;\n",
       "    }\n",
       "\n",
       "    .dataframe thead th {\n",
       "        text-align: right;\n",
       "    }\n",
       "</style>\n",
       "<table border=\"1\" class=\"dataframe\">\n",
       "  <thead>\n",
       "    <tr style=\"text-align: right;\">\n",
       "      <th></th>\n",
       "      <th>Accident_Severity</th>\n",
       "      <th>Number_of_Vehicles</th>\n",
       "      <th>Number_of_Casualties</th>\n",
       "      <th>Day_of_Week</th>\n",
       "      <th>Time</th>\n",
       "      <th>Road_Type</th>\n",
       "      <th>Light_Conditions</th>\n",
       "      <th>Weather_Conditions</th>\n",
       "      <th>Road_Surface_Conditions</th>\n",
       "      <th>Urban_or_Rural_Area</th>\n",
       "      <th>Year</th>\n",
       "    </tr>\n",
       "  </thead>\n",
       "  <tbody>\n",
       "    <tr>\n",
       "      <th>0</th>\n",
       "      <td>2</td>\n",
       "      <td>1</td>\n",
       "      <td>1</td>\n",
       "      <td>3</td>\n",
       "      <td>17:42</td>\n",
       "      <td>Single carriageway</td>\n",
       "      <td>Daylight: Street light present</td>\n",
       "      <td>Raining without high winds</td>\n",
       "      <td>Wet/Damp</td>\n",
       "      <td>1</td>\n",
       "      <td>2005</td>\n",
       "    </tr>\n",
       "    <tr>\n",
       "      <th>1</th>\n",
       "      <td>3</td>\n",
       "      <td>1</td>\n",
       "      <td>1</td>\n",
       "      <td>4</td>\n",
       "      <td>17:36</td>\n",
       "      <td>Dual carriageway</td>\n",
       "      <td>Darkness: Street lights present and lit</td>\n",
       "      <td>Fine without high winds</td>\n",
       "      <td>Dry</td>\n",
       "      <td>1</td>\n",
       "      <td>2005</td>\n",
       "    </tr>\n",
       "    <tr>\n",
       "      <th>2</th>\n",
       "      <td>3</td>\n",
       "      <td>2</td>\n",
       "      <td>1</td>\n",
       "      <td>5</td>\n",
       "      <td>00:15</td>\n",
       "      <td>Single carriageway</td>\n",
       "      <td>Darkness: Street lights present and lit</td>\n",
       "      <td>Fine without high winds</td>\n",
       "      <td>Dry</td>\n",
       "      <td>1</td>\n",
       "      <td>2005</td>\n",
       "    </tr>\n",
       "    <tr>\n",
       "      <th>3</th>\n",
       "      <td>3</td>\n",
       "      <td>1</td>\n",
       "      <td>1</td>\n",
       "      <td>6</td>\n",
       "      <td>10:35</td>\n",
       "      <td>Single carriageway</td>\n",
       "      <td>Daylight: Street light present</td>\n",
       "      <td>Fine without high winds</td>\n",
       "      <td>Dry</td>\n",
       "      <td>1</td>\n",
       "      <td>2005</td>\n",
       "    </tr>\n",
       "    <tr>\n",
       "      <th>4</th>\n",
       "      <td>3</td>\n",
       "      <td>1</td>\n",
       "      <td>1</td>\n",
       "      <td>2</td>\n",
       "      <td>21:13</td>\n",
       "      <td>Single carriageway</td>\n",
       "      <td>Darkness: Street lighting unknown</td>\n",
       "      <td>Fine without high winds</td>\n",
       "      <td>Wet/Damp</td>\n",
       "      <td>1</td>\n",
       "      <td>2005</td>\n",
       "    </tr>\n",
       "    <tr>\n",
       "      <th>5</th>\n",
       "      <td>3</td>\n",
       "      <td>2</td>\n",
       "      <td>1</td>\n",
       "      <td>3</td>\n",
       "      <td>12:40</td>\n",
       "      <td>Single carriageway</td>\n",
       "      <td>Daylight: Street light present</td>\n",
       "      <td>Raining without high winds</td>\n",
       "      <td>Wet/Damp</td>\n",
       "      <td>1</td>\n",
       "      <td>2005</td>\n",
       "    </tr>\n",
       "    <tr>\n",
       "      <th>6</th>\n",
       "      <td>3</td>\n",
       "      <td>2</td>\n",
       "      <td>1</td>\n",
       "      <td>5</td>\n",
       "      <td>20:40</td>\n",
       "      <td>Single carriageway</td>\n",
       "      <td>Darkness: Street lights present and lit</td>\n",
       "      <td>Fine without high winds</td>\n",
       "      <td>Dry</td>\n",
       "      <td>1</td>\n",
       "      <td>2005</td>\n",
       "    </tr>\n",
       "    <tr>\n",
       "      <th>7</th>\n",
       "      <td>3</td>\n",
       "      <td>1</td>\n",
       "      <td>2</td>\n",
       "      <td>6</td>\n",
       "      <td>17:35</td>\n",
       "      <td>Dual carriageway</td>\n",
       "      <td>Daylight: Street light present</td>\n",
       "      <td>Fine without high winds</td>\n",
       "      <td>Dry</td>\n",
       "      <td>1</td>\n",
       "      <td>2005</td>\n",
       "    </tr>\n",
       "    <tr>\n",
       "      <th>8</th>\n",
       "      <td>3</td>\n",
       "      <td>2</td>\n",
       "      <td>2</td>\n",
       "      <td>7</td>\n",
       "      <td>22:43</td>\n",
       "      <td>Single carriageway</td>\n",
       "      <td>Darkness: Street lights present and lit</td>\n",
       "      <td>Fine without high winds</td>\n",
       "      <td>Dry</td>\n",
       "      <td>1</td>\n",
       "      <td>2005</td>\n",
       "    </tr>\n",
       "    <tr>\n",
       "      <th>9</th>\n",
       "      <td>3</td>\n",
       "      <td>2</td>\n",
       "      <td>5</td>\n",
       "      <td>7</td>\n",
       "      <td>16:00</td>\n",
       "      <td>Single carriageway</td>\n",
       "      <td>Daylight: Street light present</td>\n",
       "      <td>Fine without high winds</td>\n",
       "      <td>Dry</td>\n",
       "      <td>1</td>\n",
       "      <td>2005</td>\n",
       "    </tr>\n",
       "  </tbody>\n",
       "</table>\n",
       "</div>"
      ],
      "text/plain": [
       "   Accident_Severity  Number_of_Vehicles  Number_of_Casualties  Day_of_Week  \\\n",
       "0                  2                   1                     1            3   \n",
       "1                  3                   1                     1            4   \n",
       "2                  3                   2                     1            5   \n",
       "3                  3                   1                     1            6   \n",
       "4                  3                   1                     1            2   \n",
       "5                  3                   2                     1            3   \n",
       "6                  3                   2                     1            5   \n",
       "7                  3                   1                     2            6   \n",
       "8                  3                   2                     2            7   \n",
       "9                  3                   2                     5            7   \n",
       "\n",
       "    Time           Road_Type                         Light_Conditions  \\\n",
       "0  17:42  Single carriageway           Daylight: Street light present   \n",
       "1  17:36    Dual carriageway  Darkness: Street lights present and lit   \n",
       "2  00:15  Single carriageway  Darkness: Street lights present and lit   \n",
       "3  10:35  Single carriageway           Daylight: Street light present   \n",
       "4  21:13  Single carriageway        Darkness: Street lighting unknown   \n",
       "5  12:40  Single carriageway           Daylight: Street light present   \n",
       "6  20:40  Single carriageway  Darkness: Street lights present and lit   \n",
       "7  17:35    Dual carriageway           Daylight: Street light present   \n",
       "8  22:43  Single carriageway  Darkness: Street lights present and lit   \n",
       "9  16:00  Single carriageway           Daylight: Street light present   \n",
       "\n",
       "           Weather_Conditions Road_Surface_Conditions  Urban_or_Rural_Area  \\\n",
       "0  Raining without high winds                Wet/Damp                    1   \n",
       "1     Fine without high winds                     Dry                    1   \n",
       "2     Fine without high winds                     Dry                    1   \n",
       "3     Fine without high winds                     Dry                    1   \n",
       "4     Fine without high winds                Wet/Damp                    1   \n",
       "5  Raining without high winds                Wet/Damp                    1   \n",
       "6     Fine without high winds                     Dry                    1   \n",
       "7     Fine without high winds                     Dry                    1   \n",
       "8     Fine without high winds                     Dry                    1   \n",
       "9     Fine without high winds                     Dry                    1   \n",
       "\n",
       "   Year  \n",
       "0  2005  \n",
       "1  2005  \n",
       "2  2005  \n",
       "3  2005  \n",
       "4  2005  \n",
       "5  2005  \n",
       "6  2005  \n",
       "7  2005  \n",
       "8  2005  \n",
       "9  2005  "
      ]
     },
     "execution_count": 7,
     "metadata": {},
     "output_type": "execute_result"
    }
   ],
   "source": [
    "data.info()\n",
    "data.describe().T\n",
    "data.head(10)"
   ]
  },
  {
   "cell_type": "code",
   "execution_count": 8,
   "id": "8795f589",
   "metadata": {
    "scrolled": true
   },
   "outputs": [
    {
     "data": {
      "text/plain": [
       "Accident_Severity             0\n",
       "Number_of_Vehicles            0\n",
       "Number_of_Casualties          0\n",
       "Day_of_Week                   0\n",
       "Time                        117\n",
       "Road_Type                     0\n",
       "Light_Conditions              0\n",
       "Weather_Conditions          126\n",
       "Road_Surface_Conditions    1958\n",
       "Urban_or_Rural_Area           0\n",
       "Year                          0\n",
       "dtype: int64"
      ]
     },
     "execution_count": 8,
     "metadata": {},
     "output_type": "execute_result"
    }
   ],
   "source": [
    "data.isnull().sum() #Sütunlardaki boş verilerin kaç tane olduğunu görmemiz gerekiyor."
   ]
  },
  {
   "cell_type": "code",
   "execution_count": 9,
   "id": "969600d1",
   "metadata": {
    "scrolled": true
   },
   "outputs": [
    {
     "data": {
      "text/plain": [
       "Accident_Severity          0\n",
       "Number_of_Vehicles         0\n",
       "Number_of_Casualties       0\n",
       "Day_of_Week                0\n",
       "Time                       0\n",
       "Road_Type                  0\n",
       "Light_Conditions           0\n",
       "Weather_Conditions         0\n",
       "Road_Surface_Conditions    0\n",
       "Urban_or_Rural_Area        0\n",
       "Year                       0\n",
       "dtype: int64"
      ]
     },
     "execution_count": 9,
     "metadata": {},
     "output_type": "execute_result"
    }
   ],
   "source": [
    "data.dropna(inplace=True) #Boş değerleri veri setinden çıkaralım.\n",
    "data.isnull().sum()"
   ]
  },
  {
   "cell_type": "markdown",
   "id": "92f5cd0b",
   "metadata": {},
   "source": [
    "#### Günlere ve yıllara göre trafik kazası sayıları"
   ]
  },
  {
   "cell_type": "code",
   "execution_count": 10,
   "id": "bc696f14",
   "metadata": {},
   "outputs": [
    {
     "data": {
      "text/plain": [
       "2005    198474\n",
       "2006    188913\n",
       "2007    181881\n",
       "2012    179436\n",
       "2009    163334\n",
       "2010    154185\n",
       "2011    151241\n",
       "2014    146100\n",
       "2013    138393\n",
       "Name: Year, dtype: int64"
      ]
     },
     "execution_count": 10,
     "metadata": {},
     "output_type": "execute_result"
    }
   ],
   "source": [
    "year = data[\"Year\"].value_counts() \n",
    "year"
   ]
  },
  {
   "cell_type": "code",
   "execution_count": 11,
   "id": "68e2ae2d",
   "metadata": {},
   "outputs": [
    {
     "data": {
      "image/png": "[encoded data removed]",
      "text/plain": [
       "<Figure size 2000x900 with 2 Axes>"
      ]
     },
     "metadata": {},
     "output_type": "display_data"
    }
   ],
   "source": [
    "import seaborn as sns\n",
    "year = data[\"Year\"].value_counts() \n",
    "\n",
    "years = data[\"Year\"].unique()\n",
    "num = year.values\n",
    "\n",
    "week = data[\"Day_of_Week\"].value_counts()\n",
    "week\n",
    "weeks = data[\"Day_of_Week\"].unique()\n",
    "num_w = week.values\n",
    "\n",
    "plt.figure(figsize = (20,9),facecolor='grey')\n",
    "\n",
    "plt.subplot(1, 2, 1)\n",
    "\n",
    "sns.barplot(x = years, y = num)\n",
    "plt.ylabel(\"Number of Accidents\",weight=\"bold\")\n",
    "plt.xlabel(\"Years\",weight=\"bold\")\n",
    "\n",
    "plt.title(\"Number of Traffic Accidents By years\",weight=\"bold\")\n",
    "\n",
    "plt.subplot(1, 2, 2)\n",
    "\n",
    "plt.barh(weeks,num_w)\n",
    "plt.title(\"Number of Traffic Accidents By Weekdays\",weight=\"bold\")\n",
    "plt.xlabel(\"Number of Accidents\",weight=\"bold\")\n",
    "plt.ylabel(\"Weekdays\",weight=\"bold\")\n",
    "plt.show()"
   ]
  },
  {
   "cell_type": "markdown",
   "id": "51eb9100",
   "metadata": {},
   "source": [
    "- Günlere ve yıllara göre kaza sayıarını grafikte görebiliriz. Genel olarak bir azalma olduğunu (yıllara göre) görebiliriz.\n",
    "- Haftanın günleri için ise yoğunluk hafta sonunda olduğunu söyleyebiliriz."
   ]
  },
  {
   "cell_type": "markdown",
   "id": "d795576c",
   "metadata": {},
   "source": [
    "### Kırsal ve kentsel alanlar nasıl farklılaştı?"
   ]
  },
  {
   "cell_type": "code",
   "execution_count": 12,
   "id": "dd704c11",
   "metadata": {},
   "outputs": [
    {
     "data": {
      "image/png": "[encoded data removed]",
      "text/plain": [
       "<Figure size 640x480 with 1 Axes>"
      ]
     },
     "metadata": {},
     "output_type": "display_data"
    }
   ],
   "source": [
    "data[\"Urban_or_Rural_Area\"].value_counts()\n",
    "plt.style.use(\"seaborn-darkgrid\")\n",
    "\n",
    "sns.countplot(x=\"Urban_or_Rural_Area\",data=data)\n",
    "plt.ylabel(\"Number of Accidents\",weight=\"bold\")\n",
    "plt.xlabel(\"Urban(1) or Rural(2) Area\",weight=\"bold\")\n",
    "plt.title(\"Urban Area vs Rural Area\",weight=\"bold\")\n",
    "\n",
    "plt.show() "
   ]
  },
  {
   "cell_type": "markdown",
   "id": "8d6a23bf",
   "metadata": {},
   "source": [
    "- Beklenilen şekilde kentsel alanlarda kaza sayısı fazla olduğunu görüyoruz."
   ]
  },
  {
   "cell_type": "code",
   "execution_count": 13,
   "id": "378ed5da",
   "metadata": {},
   "outputs": [
    {
     "data": {
      "text/html": [
       "<div>\n",
       "<style scoped>\n",
       "    .dataframe tbody tr th:only-of-type {\n",
       "        vertical-align: middle;\n",
       "    }\n",
       "\n",
       "    .dataframe tbody tr th {\n",
       "        vertical-align: top;\n",
       "    }\n",
       "\n",
       "    .dataframe thead th {\n",
       "        text-align: right;\n",
       "    }\n",
       "</style>\n",
       "<table border=\"1\" class=\"dataframe\">\n",
       "  <thead>\n",
       "    <tr style=\"text-align: right;\">\n",
       "      <th></th>\n",
       "      <th>Accident_Severity</th>\n",
       "      <th>Number_of_Vehicles</th>\n",
       "      <th>Number_of_Casualties</th>\n",
       "      <th>Day_of_Week</th>\n",
       "      <th>Time</th>\n",
       "      <th>Road_Type</th>\n",
       "      <th>Light_Conditions</th>\n",
       "      <th>Weather_Conditions</th>\n",
       "      <th>Road_Surface_Conditions</th>\n",
       "      <th>Urban_or_Rural_Area</th>\n",
       "      <th>Year</th>\n",
       "    </tr>\n",
       "  </thead>\n",
       "  <tbody>\n",
       "    <tr>\n",
       "      <th>0</th>\n",
       "      <td>2</td>\n",
       "      <td>1</td>\n",
       "      <td>1</td>\n",
       "      <td>3</td>\n",
       "      <td>17:42</td>\n",
       "      <td>Single carriageway</td>\n",
       "      <td>Daylight: Street light present</td>\n",
       "      <td>Raining without high winds</td>\n",
       "      <td>Wet/Damp</td>\n",
       "      <td>1</td>\n",
       "      <td>2005</td>\n",
       "    </tr>\n",
       "    <tr>\n",
       "      <th>1</th>\n",
       "      <td>3</td>\n",
       "      <td>1</td>\n",
       "      <td>1</td>\n",
       "      <td>4</td>\n",
       "      <td>17:36</td>\n",
       "      <td>Dual carriageway</td>\n",
       "      <td>Darkness: Street lights present and lit</td>\n",
       "      <td>Fine without high winds</td>\n",
       "      <td>Dry</td>\n",
       "      <td>1</td>\n",
       "      <td>2005</td>\n",
       "    </tr>\n",
       "    <tr>\n",
       "      <th>2</th>\n",
       "      <td>3</td>\n",
       "      <td>2</td>\n",
       "      <td>1</td>\n",
       "      <td>5</td>\n",
       "      <td>00:15</td>\n",
       "      <td>Single carriageway</td>\n",
       "      <td>Darkness: Street lights present and lit</td>\n",
       "      <td>Fine without high winds</td>\n",
       "      <td>Dry</td>\n",
       "      <td>1</td>\n",
       "      <td>2005</td>\n",
       "    </tr>\n",
       "    <tr>\n",
       "      <th>3</th>\n",
       "      <td>3</td>\n",
       "      <td>1</td>\n",
       "      <td>1</td>\n",
       "      <td>6</td>\n",
       "      <td>10:35</td>\n",
       "      <td>Single carriageway</td>\n",
       "      <td>Daylight: Street light present</td>\n",
       "      <td>Fine without high winds</td>\n",
       "      <td>Dry</td>\n",
       "      <td>1</td>\n",
       "      <td>2005</td>\n",
       "    </tr>\n",
       "    <tr>\n",
       "      <th>4</th>\n",
       "      <td>3</td>\n",
       "      <td>1</td>\n",
       "      <td>1</td>\n",
       "      <td>2</td>\n",
       "      <td>21:13</td>\n",
       "      <td>Single carriageway</td>\n",
       "      <td>Darkness: Street lighting unknown</td>\n",
       "      <td>Fine without high winds</td>\n",
       "      <td>Wet/Damp</td>\n",
       "      <td>1</td>\n",
       "      <td>2005</td>\n",
       "    </tr>\n",
       "  </tbody>\n",
       "</table>\n",
       "</div>"
      ],
      "text/plain": [
       "   Accident_Severity  Number_of_Vehicles  Number_of_Casualties  Day_of_Week  \\\n",
       "0                  2                   1                     1            3   \n",
       "1                  3                   1                     1            4   \n",
       "2                  3                   2                     1            5   \n",
       "3                  3                   1                     1            6   \n",
       "4                  3                   1                     1            2   \n",
       "\n",
       "    Time           Road_Type                         Light_Conditions  \\\n",
       "0  17:42  Single carriageway           Daylight: Street light present   \n",
       "1  17:36    Dual carriageway  Darkness: Street lights present and lit   \n",
       "2  00:15  Single carriageway  Darkness: Street lights present and lit   \n",
       "3  10:35  Single carriageway           Daylight: Street light present   \n",
       "4  21:13  Single carriageway        Darkness: Street lighting unknown   \n",
       "\n",
       "           Weather_Conditions Road_Surface_Conditions  Urban_or_Rural_Area  \\\n",
       "0  Raining without high winds                Wet/Damp                    1   \n",
       "1     Fine without high winds                     Dry                    1   \n",
       "2     Fine without high winds                     Dry                    1   \n",
       "3     Fine without high winds                     Dry                    1   \n",
       "4     Fine without high winds                Wet/Damp                    1   \n",
       "\n",
       "   Year  \n",
       "0  2005  \n",
       "1  2005  \n",
       "2  2005  \n",
       "3  2005  \n",
       "4  2005  "
      ]
     },
     "execution_count": 13,
     "metadata": {},
     "output_type": "execute_result"
    }
   ],
   "source": [
    "data.head()"
   ]
  },
  {
   "cell_type": "markdown",
   "id": "7a1109a7",
   "metadata": {},
   "source": [
    "### Kategorik Değişkenleri analiz edelim."
   ]
  },
  {
   "cell_type": "code",
   "execution_count": 14,
   "id": "dd450b24",
   "metadata": {},
   "outputs": [
    {
     "data": {
      "text/plain": [
       "array(['Single carriageway', 'Dual carriageway', 'One way street',\n",
       "       'Roundabout', 'Slip road', 'Unknown'], dtype=object)"
      ]
     },
     "execution_count": 14,
     "metadata": {},
     "output_type": "execute_result"
    }
   ],
   "source": [
    "data[\"Road_Type\"].unique()"
   ]
  },
  {
   "cell_type": "code",
   "execution_count": 15,
   "id": "85615633",
   "metadata": {},
   "outputs": [],
   "source": [
    "data[\"Road_Type\"]=[1 if each == \"Single carriageway\" else 2\n",
    "                          if each == \"Dual carriageway\" else 3\n",
    "                          if each == \"One way street\" else 4\n",
    "                          if each == \"Roundabout\" else 5\n",
    "                          if each == \"Slip road\" else 6\n",
    "                          for each in data[\"Road_Type\"]]"
   ]
  },
  {
   "cell_type": "code",
   "execution_count": 16,
   "id": "1e147e0e",
   "metadata": {},
   "outputs": [
    {
     "data": {
      "text/plain": [
       "array(['Raining without high winds', 'Fine without high winds', 'Unknown',\n",
       "       'Snowing without high winds', 'Other', 'Fine with high winds',\n",
       "       'Raining with high winds', 'Fog or mist',\n",
       "       'Snowing with high winds'], dtype=object)"
      ]
     },
     "execution_count": 16,
     "metadata": {},
     "output_type": "execute_result"
    }
   ],
   "source": [
    "data[\"Weather_Conditions\"].unique()"
   ]
  },
  {
   "cell_type": "code",
   "execution_count": 17,
   "id": "8ccfebc3",
   "metadata": {},
   "outputs": [],
   "source": [
    "data[\"Weather_Conditions\"]=[1 if each == \"Raining without high winds\" else 2\n",
    "                          if each == \"Fine without high winds\" else 3\n",
    "                          if each == \"Unknown\" else 4\n",
    "                          if each == \"Snowing without high winds\" else 5\n",
    "                          if each == \"Other\" else 6\n",
    "                          if each == \"Fine with high winds\" else 7\n",
    "                          if each == \"Raining with high winds\" else 8\n",
    "                          if each == \"Fog or mist\" else 9         \n",
    "                          for each in data[\"Weather_Conditions\"]]"
   ]
  },
  {
   "cell_type": "code",
   "execution_count": 18,
   "id": "2ccd5b25",
   "metadata": {},
   "outputs": [
    {
     "data": {
      "text/plain": [
       "array(['Wet/Damp', 'Dry', 'Frost/Ice', 'Snow',\n",
       "       'Flood (Over 3cm of water)'], dtype=object)"
      ]
     },
     "execution_count": 18,
     "metadata": {},
     "output_type": "execute_result"
    }
   ],
   "source": [
    "data[\"Road_Surface_Conditions\"].unique()"
   ]
  },
  {
   "cell_type": "code",
   "execution_count": 19,
   "id": "31686b09",
   "metadata": {},
   "outputs": [],
   "source": [
    "data[\"Road_Surface_Conditions\"]=[1 if each == \"Wet/Damp\" else 2\n",
    "                          if each == \"Dry\" else 3\n",
    "                          if each == \"Frost/Ice\" else 4\n",
    "                          if each == \"Snow\" else 5       \n",
    "                          for each in data[\"Road_Surface_Conditions\"]]"
   ]
  },
  {
   "cell_type": "code",
   "execution_count": 20,
   "id": "c8feda9e",
   "metadata": {},
   "outputs": [
    {
     "data": {
      "text/plain": [
       "array(['Daylight: Street light present',\n",
       "       'Darkness: Street lights present and lit',\n",
       "       'Darkness: Street lighting unknown',\n",
       "       'Darkness: Street lights present but unlit',\n",
       "       'Darkeness: No street lighting'], dtype=object)"
      ]
     },
     "execution_count": 20,
     "metadata": {},
     "output_type": "execute_result"
    }
   ],
   "source": [
    "data[\"Light_Conditions\"].unique()"
   ]
  },
  {
   "cell_type": "code",
   "execution_count": 21,
   "id": "701c73ec",
   "metadata": {},
   "outputs": [],
   "source": [
    "data[\"Light_Conditions\"]=[1 if each == \"Daylight: Street light present\" else 2\n",
    "                          if each == \"Darkness: Street lights present and lit\" else 3\n",
    "                          if each == \"Darkness: Street lighting unknown\" else 4\n",
    "                          if each == \"Darkness: Street lights present but unlit\" else 5  \n",
    "                          if each == \"Darkeness: No street lighting\" else 6\n",
    "                          for each in data[\"Light_Conditions\"]]"
   ]
  },
  {
   "cell_type": "code",
   "execution_count": 22,
   "id": "15575ee1",
   "metadata": {},
   "outputs": [],
   "source": [
    "data.drop([\"Time\"], axis=1, inplace=True)"
   ]
  },
  {
   "cell_type": "code",
   "execution_count": 23,
   "id": "4febc1a7",
   "metadata": {},
   "outputs": [
    {
     "data": {
      "text/html": [
       "<div>\n",
       "<style scoped>\n",
       "    .dataframe tbody tr th:only-of-type {\n",
       "        vertical-align: middle;\n",
       "    }\n",
       "\n",
       "    .dataframe tbody tr th {\n",
       "        vertical-align: top;\n",
       "    }\n",
       "\n",
       "    .dataframe thead th {\n",
       "        text-align: right;\n",
       "    }\n",
       "</style>\n",
       "<table border=\"1\" class=\"dataframe\">\n",
       "  <thead>\n",
       "    <tr style=\"text-align: right;\">\n",
       "      <th></th>\n",
       "      <th>Accident_Severity</th>\n",
       "      <th>Number_of_Vehicles</th>\n",
       "      <th>Number_of_Casualties</th>\n",
       "      <th>Day_of_Week</th>\n",
       "      <th>Road_Type</th>\n",
       "      <th>Light_Conditions</th>\n",
       "      <th>Weather_Conditions</th>\n",
       "      <th>Road_Surface_Conditions</th>\n",
       "      <th>Urban_or_Rural_Area</th>\n",
       "      <th>Year</th>\n",
       "    </tr>\n",
       "  </thead>\n",
       "  <tbody>\n",
       "    <tr>\n",
       "      <th>0</th>\n",
       "      <td>2</td>\n",
       "      <td>1</td>\n",
       "      <td>1</td>\n",
       "      <td>3</td>\n",
       "      <td>1</td>\n",
       "      <td>1</td>\n",
       "      <td>1</td>\n",
       "      <td>1</td>\n",
       "      <td>1</td>\n",
       "      <td>2005</td>\n",
       "    </tr>\n",
       "    <tr>\n",
       "      <th>1</th>\n",
       "      <td>3</td>\n",
       "      <td>1</td>\n",
       "      <td>1</td>\n",
       "      <td>4</td>\n",
       "      <td>2</td>\n",
       "      <td>2</td>\n",
       "      <td>2</td>\n",
       "      <td>2</td>\n",
       "      <td>1</td>\n",
       "      <td>2005</td>\n",
       "    </tr>\n",
       "    <tr>\n",
       "      <th>2</th>\n",
       "      <td>3</td>\n",
       "      <td>2</td>\n",
       "      <td>1</td>\n",
       "      <td>5</td>\n",
       "      <td>1</td>\n",
       "      <td>2</td>\n",
       "      <td>2</td>\n",
       "      <td>2</td>\n",
       "      <td>1</td>\n",
       "      <td>2005</td>\n",
       "    </tr>\n",
       "    <tr>\n",
       "      <th>3</th>\n",
       "      <td>3</td>\n",
       "      <td>1</td>\n",
       "      <td>1</td>\n",
       "      <td>6</td>\n",
       "      <td>1</td>\n",
       "      <td>1</td>\n",
       "      <td>2</td>\n",
       "      <td>2</td>\n",
       "      <td>1</td>\n",
       "      <td>2005</td>\n",
       "    </tr>\n",
       "    <tr>\n",
       "      <th>4</th>\n",
       "      <td>3</td>\n",
       "      <td>1</td>\n",
       "      <td>1</td>\n",
       "      <td>2</td>\n",
       "      <td>1</td>\n",
       "      <td>3</td>\n",
       "      <td>2</td>\n",
       "      <td>1</td>\n",
       "      <td>1</td>\n",
       "      <td>2005</td>\n",
       "    </tr>\n",
       "  </tbody>\n",
       "</table>\n",
       "</div>"
      ],
      "text/plain": [
       "   Accident_Severity  Number_of_Vehicles  Number_of_Casualties  Day_of_Week  \\\n",
       "0                  2                   1                     1            3   \n",
       "1                  3                   1                     1            4   \n",
       "2                  3                   2                     1            5   \n",
       "3                  3                   1                     1            6   \n",
       "4                  3                   1                     1            2   \n",
       "\n",
       "   Road_Type  Light_Conditions  Weather_Conditions  Road_Surface_Conditions  \\\n",
       "0          1                 1                   1                        1   \n",
       "1          2                 2                   2                        2   \n",
       "2          1                 2                   2                        2   \n",
       "3          1                 1                   2                        2   \n",
       "4          1                 3                   2                        1   \n",
       "\n",
       "   Urban_or_Rural_Area  Year  \n",
       "0                    1  2005  \n",
       "1                    1  2005  \n",
       "2                    1  2005  \n",
       "3                    1  2005  \n",
       "4                    1  2005  "
      ]
     },
     "execution_count": 23,
     "metadata": {},
     "output_type": "execute_result"
    }
   ],
   "source": [
    "data.head()"
   ]
  },
  {
   "cell_type": "code",
   "execution_count": 24,
   "id": "cc91919d",
   "metadata": {},
   "outputs": [],
   "source": [
    "X = data.drop([\"Accident_Severity\"],axis=1).values\n",
    "y = data[\"Accident_Severity\"].values"
   ]
  },
  {
   "cell_type": "markdown",
   "id": "8d8ee628",
   "metadata": {},
   "source": [
    "### Modelleme\n",
    "- Train ve Test datalarını ayıralım."
   ]
  },
  {
   "cell_type": "code",
   "execution_count": 25,
   "id": "2741438d",
   "metadata": {},
   "outputs": [],
   "source": [
    "from sklearn.model_selection import train_test_split\n",
    "X_train, X_test, y_train, y_test = train_test_split(X,y, test_size=0.20, random_state=0)"
   ]
  },
  {
   "cell_type": "code",
   "execution_count": 26,
   "id": "03c2e7fc",
   "metadata": {},
   "outputs": [
    {
     "data": {
      "text/plain": [
       "((1201565, 9), (300392, 9), (1201565,), (300392,))"
      ]
     },
     "execution_count": 26,
     "metadata": {},
     "output_type": "execute_result"
    }
   ],
   "source": [
    "X_train.shape, X_test.shape, y_train.shape, y_test.shape"
   ]
  },
  {
   "cell_type": "code",
   "execution_count": 27,
   "id": "7c1851bd",
   "metadata": {},
   "outputs": [],
   "source": [
    "from sklearn.preprocessing import StandardScaler\n",
    "sc = StandardScaler()\n",
    "X_train = sc.fit_transform(X_train)\n",
    "X_test = sc.transform(X_test)"
   ]
  },
  {
   "cell_type": "code",
   "execution_count": 28,
   "id": "e63cd7e2",
   "metadata": {},
   "outputs": [
    {
     "name": "stdout",
     "output_type": "stream",
     "text": [
      "Run time : 183.29158115386963\n"
     ]
    }
   ],
   "source": [
    "import time\n",
    "from sklearn.ensemble import RandomForestRegressor\n",
    "\n",
    "time_start = time.time()\n",
    "\n",
    "# Train Modeli\n",
    "regressor = RandomForestRegressor(n_estimators=100, max_features = 0.5)\n",
    "regressor.fit(X_train, y_train)\n",
    "y_pred = regressor.predict(X_test)\n",
    "\n",
    "time_end = time.time() # Modelin çalışma süresini tahmin edelim.\n",
    "print(f'Run time : {time_end - time_start}')"
   ]
  },
  {
   "cell_type": "code",
   "execution_count": 29,
   "id": "0a68df38",
   "metadata": {},
   "outputs": [
    {
     "name": "stdout",
     "output_type": "stream",
     "text": [
      "Training score:  0.13279308621914943\n",
      "Testing score:   0.00242507302035766\n",
      "RMSE: 0.40147832313761833\n"
     ]
    }
   ],
   "source": [
    "from sklearn import metrics\n",
    "\n",
    "print('Training score: ', regressor.score(X_train, y_train))\n",
    "print('Testing score:  ', regressor.score(X_test, y_test))\n",
    "print('RMSE:', np.sqrt(metrics.mean_squared_error(y_test, y_pred)))"
   ]
  },
  {
   "cell_type": "markdown",
   "id": "d38b57ba",
   "metadata": {},
   "source": [
    "# KNN/ K- Nearest Neighbor Algoritması"
   ]
  },
  {
   "cell_type": "code",
   "execution_count": 30,
   "id": "ccf4f94a",
   "metadata": {},
   "outputs": [],
   "source": [
    "from sklearn.preprocessing import StandardScaler\n",
    "scaler = StandardScaler()\n",
    "X_train = scaler.fit_transform(X_train)\n",
    "X_test = scaler.transform(X_test)"
   ]
  },
  {
   "cell_type": "code",
   "execution_count": 31,
   "id": "4805b948",
   "metadata": {},
   "outputs": [
    {
     "data": {
      "text/plain": [
       "KNeighborsClassifier(n_neighbors=8)"
      ]
     },
     "execution_count": 31,
     "metadata": {},
     "output_type": "execute_result"
    }
   ],
   "source": [
    "from sklearn.neighbors import KNeighborsClassifier\n",
    "classifier = KNeighborsClassifier(n_neighbors = 8)\n",
    "classifier.fit(X_train,y_train)"
   ]
  },
  {
   "cell_type": "code",
   "execution_count": 32,
   "id": "f3cdeec9",
   "metadata": {},
   "outputs": [],
   "source": [
    "y_pred = classifier.predict(X_test)"
   ]
  },
  {
   "cell_type": "code",
   "execution_count": 33,
   "id": "ab413886",
   "metadata": {},
   "outputs": [
    {
     "name": "stdout",
     "output_type": "stream",
     "text": [
      "Confusion Matrix\n",
      "[[    17    333   3596]\n",
      " [    39   2082  38450]\n",
      " [    68   6634 249173]]\n",
      "Classifier Report\n",
      "              precision    recall  f1-score   support\n",
      "\n",
      "           1       0.14      0.00      0.01      3946\n",
      "           2       0.23      0.05      0.08     40571\n",
      "           3       0.86      0.97      0.91    255875\n",
      "\n",
      "    accuracy                           0.84    300392\n",
      "   macro avg       0.41      0.34      0.33    300392\n",
      "weighted avg       0.76      0.84      0.79    300392\n",
      "\n",
      "Accuracy Score\n",
      "0.8364803323657088\n"
     ]
    }
   ],
   "source": [
    "from sklearn.metrics import classification_report, confusion_matrix, accuracy_score\n",
    "result = confusion_matrix(y_test,y_pred)\n",
    "print(\"Confusion Matrix\")\n",
    "print(result)\n",
    "\n",
    "result1 = classification_report(y_test,y_pred)\n",
    "print(\"Classifier Report\")\n",
    "print(result1)\n",
    "\n",
    "result2 = accuracy_score(y_test,y_pred)\n",
    "print(\"Accuracy Score\")\n",
    "print(result2)"
   ]
  },
  {
   "cell_type": "code",
   "execution_count": null,
   "id": "1555b75d",
   "metadata": {},
   "outputs": [],
   "source": []
  }
 ],
 "metadata": {
  "kernelspec": {
   "display_name": "Python 3 (ipykernel)",
   "language": "python",
   "name": "python3"
  },
  "language_info": {
   "codemirror_mode": {
    "name": "ipython",
    "version": 3
   },
   "file_extension": ".py",
   "mimetype": "text/x-python",
   "name": "python",
   "nbconvert_exporter": "python",
   "pygments_lexer": "ipython3",
   "version": "3.9.12"
  }
 },
 "nbformat": 4,
 "nbformat_minor": 5
}
